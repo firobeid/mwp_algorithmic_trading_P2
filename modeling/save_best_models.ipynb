{
 "cells": [
  {
   "cell_type": "code",
   "execution_count": null,
   "id": "78303d37-a284-4118-9930-fd44d34d01ed",
   "metadata": {},
   "outputs": [],
   "source": [
    "# import modules\n",
    "import panel as pn\n",
    "pn.extension('tabulator')\n",
    "import pandas as pd\n",
    "import numpy as np\n",
    "from panel.template import FastListTemplate\n",
    "from pathlib import Path\n",
    "from yahoo_fin.stock_info import get_data\n",
    "import datetime\n",
    "from matplotlib.figure import Figure\n",
    "from matplotlib import cm\n",
    "%matplotlib inline\n",
    "import hvplot.pandas\n",
    "import holoviews as hv\n",
    "from holoviews import opts\n",
    "\n",
    "\n",
    "import os\n",
    "import sys\n",
    "module_path = os.path.abspath(os.path.join('..'))\n",
    "if module_path not in sys.path:\n",
    "    sys.path.append(module_path)\n",
    "\n",
    "# import modules that help build tabs\n",
    "import modules.helpers as helpers\n",
    "import modules.HistoricalData as hst\n",
    "import modules.MCTab as MCTab\n",
    "import modules.intro as intro\n",
    "import modules.profile as prf\n",
    "import modules.algorithmic_functions as af\n",
    "\n",
    "\n",
    "import pandas_ta as ta\n",
    "import yfinance as yf\n",
    "\n",
    "from sklearn.ensemble import AdaBoostClassifier, GradientBoostingClassifier\n",
    "from sklearn.tree import DecisionTreeClassifier\n",
    "from sklearn.neural_network import MLPClassifier\n",
    "from sklearn.discriminant_analysis import QuadraticDiscriminantAnalysis\n",
    "from sklearn.svm import LinearSVC\n",
    "from sklearn.linear_model import LogisticRegression\n",
    "from sklearn.svm import SVC\n",
    "from sklearn.ensemble import RandomForestClassifier\n",
    "\n",
    "from pandas.tseries.offsets import DateOffset\n",
    "from sklearn.preprocessing import StandardScaler\n",
    "from sklearn.pipeline import Pipeline\n",
    "from sklearn.metrics import classification_report, roc_auc_score, f1_score \n",
    "\n",
    "import seaborn as sns\n",
    "\n",
    "from joblib import dump, load\n"
   ]
  }
 ],
 "metadata": {
  "kernelspec": {
   "display_name": "Python 3 (ipykernel)",
   "language": "python",
   "name": "python3"
  },
  "language_info": {
   "codemirror_mode": {
    "name": "ipython",
    "version": 3
   },
   "file_extension": ".py",
   "mimetype": "text/x-python",
   "name": "python",
   "nbconvert_exporter": "python",
   "pygments_lexer": "ipython3",
   "version": "3.9.16"
  }
 },
 "nbformat": 4,
 "nbformat_minor": 5
}
